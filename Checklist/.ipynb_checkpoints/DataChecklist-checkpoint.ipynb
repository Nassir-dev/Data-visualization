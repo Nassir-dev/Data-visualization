{
 "cells": [
  {
   "cell_type": "markdown",
   "metadata": {},
   "source": [
    "# __Data Checklist to be considered!__\n",
    "\n",
    "This notebook provides you a standard checklist that I have researched from different scholar libraries and practical fields. These may vary depending on your personal project requirements and capabilities or resources but believe me you need them. Starting from a clear goal defination and ending with a model deployment.\n",
    "\n",
    "# __For Data analysis and science project, Machine learning__\n",
    "    a. Data input\n",
    "    b. Data preprocessing\n",
    "    c. Feature selection\n",
    "    d. Algorithm selection\n",
    "    e. Model testing\n",
    "    f. Model deployment\n",
    "    g. Model retraining and redeployment\n",
    "    \n",
    "Cited: Microsoft Cloud Data Science with Azure ML\n",
    "\n",
    "\n",
    "# __For Data minining Processes__\n",
    "    1. Define the purpose\n",
    "    2. Obtain Data\n",
    "    3. Explore & Clean Data\n",
    "    4. Determine data modeling Task\n",
    "    5. Choose data modeling methods\n",
    "    6. Apply methods & select final model\n",
    "    7. Evaluate Performance\n",
    "    8. Deploy\n",
    "\n",
    "Cited: Data Mining for Business Analytics: Galit Schmueli, Peter C. Bruce, et al.\n",
    "2018 John Wiley & Sons, Inc. Published 2018 by John Wiley & Sons"
   ]
  },
  {
   "cell_type": "code",
   "execution_count": null,
   "metadata": {},
   "outputs": [],
   "source": []
  }
 ],
 "metadata": {
  "kernelspec": {
   "display_name": "Python 3",
   "language": "python",
   "name": "python3"
  },
  "language_info": {
   "codemirror_mode": {
    "name": "ipython",
    "version": 3
   },
   "file_extension": ".py",
   "mimetype": "text/x-python",
   "name": "python",
   "nbconvert_exporter": "python",
   "pygments_lexer": "ipython3",
   "version": "3.7.3"
  }
 },
 "nbformat": 4,
 "nbformat_minor": 2
}
